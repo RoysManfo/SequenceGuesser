{
 "cells": [
  {
   "attachments": {},
   "cell_type": "markdown",
   "metadata": {},
   "source": [
    "# SeGu AI\n",
    "\n",
    "Find a pattern given a sequence of 5 numbers\n"
   ]
  },
  {
   "cell_type": "code",
   "execution_count": 78,
   "metadata": {},
   "outputs": [],
   "source": [
    "import tensorflow as tf\n",
    "import pandas as pd\n",
    "import numpy as np\n",
    "from sklearn.preprocessing import MinMaxScaler\n",
    "from sklearn.model_selection import train_test_split\n"
   ]
  },
  {
   "cell_type": "code",
   "execution_count": 79,
   "metadata": {},
   "outputs": [
    {
     "name": "stderr",
     "output_type": "stream",
     "text": [
      "C:\\Users\\manfo\\AppData\\Local\\Temp\\ipykernel_848\\1165787182.py:4: ParserWarning: Falling back to the 'python' engine because the 'c' engine does not support regex separators (separators > 1 char and different from '\\s+' are interpreted as regex); you can avoid this warning by specifying engine='python'.\n",
      "  df = pd.read_csv(DATA_PATH, names=column_names, na_values='?',\n"
     ]
    }
   ],
   "source": [
    "# Read the CSV file\n",
    "DATA_PATH = 'data/BTC_Sequence.csv'\n",
    "column_names = ['Close']\n",
    "df = pd.read_csv(DATA_PATH, names=column_names, na_values='?',\n",
    "                 comment='\\t', sep=', ', skipinitialspace=True, skiprows=1)\n"
   ]
  },
  {
   "cell_type": "code",
   "execution_count": 80,
   "metadata": {},
   "outputs": [],
   "source": [
    "# Scale the data using MinMaxScaler\n",
    "scaler = MinMaxScaler()\n",
    "normalized_data = scaler.fit_transform(df)"
   ]
  },
  {
   "cell_type": "code",
   "execution_count": 81,
   "metadata": {},
   "outputs": [],
   "source": [
    "# Create a dataset of 5-element sequences\n",
    "window_size = 5\n",
    "batch_size = 1\n",
    "\n",
    "\n",
    "def create_sequences(values: np.ndarray, window_size: int):\n",
    "    \"\"\"\n",
    "    #### Slice the dataframa in individual 5 number sequences\n",
    "    \"\"\"\n",
    "    sequences = []\n",
    "    for i in range(len(values) - window_size):\n",
    "        sequences.append(values[i:i+window_size])\n",
    "    return sequences\n",
    "\n",
    "\n",
    "dataset = tf.data.Dataset.from_tensor_slices(\n",
    "    create_sequences(normalized_data, window_size))\n",
    "dataset = dataset.batch(batch_size)\n"
   ]
  },
  {
   "cell_type": "code",
   "execution_count": 82,
   "metadata": {},
   "outputs": [],
   "source": [
    "model = tf.keras.Sequential(name=\"SeGu AI\")\n",
    "model.add(tf.keras.layers.SimpleRNN(16, input_shape=(5, 1)))\n",
    "model.add(tf.keras.layers.Dense(5))\n"
   ]
  },
  {
   "cell_type": "code",
   "execution_count": 83,
   "metadata": {},
   "outputs": [
    {
     "name": "stdout",
     "output_type": "stream",
     "text": [
      "Model: \"SeGu AI\"\n",
      "_________________________________________________________________\n",
      " Layer (type)                Output Shape              Param #   \n",
      "=================================================================\n",
      " simple_rnn_7 (SimpleRNN)    (None, 16)                288       \n",
      "                                                                 \n",
      " dense_11 (Dense)            (None, 5)                 85        \n",
      "                                                                 \n",
      "=================================================================\n",
      "Total params: 373\n",
      "Trainable params: 373\n",
      "Non-trainable params: 0\n",
      "_________________________________________________________________\n"
     ]
    }
   ],
   "source": [
    "model.summary()\n"
   ]
  },
  {
   "cell_type": "code",
   "execution_count": 116,
   "metadata": {},
   "outputs": [],
   "source": [
    "# Choose an optimizer and add a loss function\n",
    "model.compile(optimizer='adam', loss='mse')\n"
   ]
  },
  {
   "attachments": {},
   "cell_type": "markdown",
   "metadata": {},
   "source": [
    "Getting ready to train the model\n"
   ]
  },
  {
   "cell_type": "code",
   "execution_count": 141,
   "metadata": {},
   "outputs": [],
   "source": [
    "def reshape(target: np.ndarray) -> np.ndarray:\n",
    "    passed = False\n",
    "    while not passed:\n",
    "        s = target\n",
    "        try:\n",
    "            s.reshape(-1, 5, 1)\n",
    "            passed = True\n",
    "        except ValueError:\n",
    "            target = target[0:len(target)-1]\n",
    "\n",
    "    return target\n",
    "\n",
    "normalized_data = reshape(normalized_data)"
   ]
  },
  {
   "cell_type": "code",
   "execution_count": 145,
   "metadata": {},
   "outputs": [],
   "source": [
    "# Split data between training and validation\n",
    "X = normalized_data[:-5]\n",
    "y = normalized_data[5:]\n",
    "\n",
    "\n",
    "X_train, X_val, y_train, y_val = train_test_split(X, y, test_size=0.2, random_state=42)\n"
   ]
  },
  {
   "cell_type": "code",
   "execution_count": 148,
   "metadata": {},
   "outputs": [
    {
     "name": "stdout",
     "output_type": "stream",
     "text": [
      "(2444, 1) \t-> (2440, 1)\n",
      "(611, 1) \t-> (610, 1)\n"
     ]
    }
   ],
   "source": [
    "def reshape(target: np.ndarray) -> np.ndarray:\n",
    "    passed = False\n",
    "    while not passed:\n",
    "        s = target\n",
    "        try:\n",
    "            s.reshape(-1, 5, 1)\n",
    "            passed = True\n",
    "        except ValueError:\n",
    "            target = target[0:len(target)-1]\n",
    "\n",
    "    return target\n",
    "\n",
    "print(X_train.shape, \"\\t->\", reshape(X_train).shape)\n",
    "print(X_val.shape, \"\\t->\", reshape(X_val).shape)\n",
    "\n",
    "X_train = reshape(X_train)\n",
    "X_val = reshape(X_val)"
   ]
  },
  {
   "cell_type": "code",
   "execution_count": 149,
   "metadata": {},
   "outputs": [
    {
     "ename": "ValueError",
     "evalue": "Data cardinality is ambiguous:\n  x sizes: 488\n  y sizes: 2444\nMake sure all arrays contain the same number of samples.",
     "output_type": "error",
     "traceback": [
      "\u001b[1;31m---------------------------------------------------------------------------\u001b[0m",
      "\u001b[1;31mValueError\u001b[0m                                Traceback (most recent call last)",
      "File \u001b[1;32m<timed exec>:2\u001b[0m\n",
      "File \u001b[1;32m~\\AppData\\Local\\Packages\\PythonSoftwareFoundation.Python.3.10_qbz5n2kfra8p0\\LocalCache\\local-packages\\Python310\\site-packages\\keras\\utils\\traceback_utils.py:70\u001b[0m, in \u001b[0;36mfilter_traceback.<locals>.error_handler\u001b[1;34m(*args, **kwargs)\u001b[0m\n\u001b[0;32m     67\u001b[0m     filtered_tb \u001b[39m=\u001b[39m _process_traceback_frames(e\u001b[39m.\u001b[39m__traceback__)\n\u001b[0;32m     68\u001b[0m     \u001b[39m# To get the full stack trace, call:\u001b[39;00m\n\u001b[0;32m     69\u001b[0m     \u001b[39m# `tf.debugging.disable_traceback_filtering()`\u001b[39;00m\n\u001b[1;32m---> 70\u001b[0m     \u001b[39mraise\u001b[39;00m e\u001b[39m.\u001b[39mwith_traceback(filtered_tb) \u001b[39mfrom\u001b[39;00m \u001b[39mNone\u001b[39m\n\u001b[0;32m     71\u001b[0m \u001b[39mfinally\u001b[39;00m:\n\u001b[0;32m     72\u001b[0m     \u001b[39mdel\u001b[39;00m filtered_tb\n",
      "File \u001b[1;32m~\\AppData\\Local\\Packages\\PythonSoftwareFoundation.Python.3.10_qbz5n2kfra8p0\\LocalCache\\local-packages\\Python310\\site-packages\\keras\\engine\\data_adapter.py:1851\u001b[0m, in \u001b[0;36m_check_data_cardinality\u001b[1;34m(data)\u001b[0m\n\u001b[0;32m   1844\u001b[0m     msg \u001b[39m+\u001b[39m\u001b[39m=\u001b[39m \u001b[39m\"\u001b[39m\u001b[39m  \u001b[39m\u001b[39m{}\u001b[39;00m\u001b[39m sizes: \u001b[39m\u001b[39m{}\u001b[39;00m\u001b[39m\\n\u001b[39;00m\u001b[39m\"\u001b[39m\u001b[39m.\u001b[39mformat(\n\u001b[0;32m   1845\u001b[0m         label,\n\u001b[0;32m   1846\u001b[0m         \u001b[39m\"\u001b[39m\u001b[39m, \u001b[39m\u001b[39m\"\u001b[39m\u001b[39m.\u001b[39mjoin(\n\u001b[0;32m   1847\u001b[0m             \u001b[39mstr\u001b[39m(i\u001b[39m.\u001b[39mshape[\u001b[39m0\u001b[39m]) \u001b[39mfor\u001b[39;00m i \u001b[39min\u001b[39;00m tf\u001b[39m.\u001b[39mnest\u001b[39m.\u001b[39mflatten(single_data)\n\u001b[0;32m   1848\u001b[0m         ),\n\u001b[0;32m   1849\u001b[0m     )\n\u001b[0;32m   1850\u001b[0m msg \u001b[39m+\u001b[39m\u001b[39m=\u001b[39m \u001b[39m\"\u001b[39m\u001b[39mMake sure all arrays contain the same number of samples.\u001b[39m\u001b[39m\"\u001b[39m\n\u001b[1;32m-> 1851\u001b[0m \u001b[39mraise\u001b[39;00m \u001b[39mValueError\u001b[39;00m(msg)\n",
      "\u001b[1;31mValueError\u001b[0m: Data cardinality is ambiguous:\n  x sizes: 488\n  y sizes: 2444\nMake sure all arrays contain the same number of samples."
     ]
    }
   ],
   "source": [
    "%%time\n",
    "\n",
    "# train the model\n",
    "history = model.fit(\n",
    "    X_train.reshape(-1, 5, 1),\n",
    "    y_train,\n",
    "    epochs=100,\n",
    "    validation_data=(\n",
    "        X_val.reshape(-1, 5, 1),\n",
    "        y_val\n",
    "    )\n",
    ")\n"
   ]
  }
 ],
 "metadata": {
  "kernelspec": {
   "display_name": "Python 3",
   "language": "python",
   "name": "python3"
  },
  "language_info": {
   "codemirror_mode": {
    "name": "ipython",
    "version": 3
   },
   "file_extension": ".py",
   "mimetype": "text/x-python",
   "name": "python",
   "nbconvert_exporter": "python",
   "pygments_lexer": "ipython3",
   "version": "3.10.10"
  },
  "orig_nbformat": 4,
  "vscode": {
   "interpreter": {
    "hash": "36f2f42a1608aeda029080b931ab2a20c0868fd75fa6c881939e0341570e1a7b"
   }
  }
 },
 "nbformat": 4,
 "nbformat_minor": 2
}
