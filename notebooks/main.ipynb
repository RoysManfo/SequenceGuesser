{
 "cells": [
  {
   "attachments": {},
   "cell_type": "markdown",
   "metadata": {},
   "source": [
    "# SeGu AI\n",
    "Find a pattern given a sequence of 5 numbers"
   ]
  },
  {
   "cell_type": "code",
   "execution_count": 1,
   "metadata": {},
   "outputs": [],
   "source": [
    "import tensorflow as tf\n",
    "import pandas as pd\n",
    "import numpy as np\n",
    "from sklearn.preprocessing import MinMaxScaler\n",
    "from sklearn.model_selection import train_test_split"
   ]
  },
  {
   "cell_type": "code",
   "execution_count": 4,
   "metadata": {},
   "outputs": [
    {
     "name": "stderr",
     "output_type": "stream",
     "text": [
      "C:\\Users\\manfo\\AppData\\Local\\Temp\\ipykernel_848\\2782344548.py:4: ParserWarning: Falling back to the 'python' engine because the 'c' engine does not support regex separators (separators > 1 char and different from '\\s+' are interpreted as regex); you can avoid this warning by specifying engine='python'.\n",
      "  df = pd.read_csv(DATA_PATH, names=column_names, na_values='?', comment='\\t', sep=', ', skipinitialspace=True, skiprows=1 )\n"
     ]
    }
   ],
   "source": [
    "# Read the CSV file\n",
    "DATA_PATH = 'data/BTC_Sequence.csv'\n",
    "column_names = ['Close']\n",
    "df = pd.read_csv(DATA_PATH, names=column_names, na_values='?', comment='\\t', sep=', ', skipinitialspace=True, skiprows=1 )"
   ]
  },
  {
   "cell_type": "code",
   "execution_count": 5,
   "metadata": {},
   "outputs": [],
   "source": [
    "# Scale the data using MinMaxScaler\n",
    "scaler = MinMaxScaler()\n",
    "normalized_data = scaler.fit_transform(df)\n",
    "normalized_data = scaler.fit_transform(data)"
   ]
  },
  {
   "cell_type": "code",
   "execution_count": 6,
   "metadata": {},
   "outputs": [],
   "source": [
    "# Create a dataset of 5-element sequences\n",
    "window_size = 5\n",
    "batch_size = 1\n",
    "\n",
    "def create_sequences(values: np.ndarray, window_size: int):\n",
    "    \"\"\"\n",
    "    #### Slice the dataframa in individual 5 number sequences\n",
    "    \"\"\"\n",
    "    sequences = []\n",
    "    for i in range(len(values) - window_size):\n",
    "        sequences.append(values[i:i+window_size])\n",
    "    return sequences\n",
    "\n",
    "dataset = tf.data.Dataset.from_tensor_slices(create_sequences(normalized_data, window_size))\n",
    "dataset = dataset.batch(batch_size)"
   ]
  },
  {
   "cell_type": "code",
   "execution_count": 15,
   "metadata": {},
   "outputs": [],
   "source": [
    "model = tf.keras.Sequential(name=\"SeGu AI\")\n",
    "model.add(tf.keras.layers.SimpleRNN(16, input_shape=(5, 1)))\n",
    "model.add(tf.keras.layers.Dense(5))\n"
   ]
  },
  {
   "cell_type": "code",
   "execution_count": 16,
   "metadata": {},
   "outputs": [
    {
     "name": "stdout",
     "output_type": "stream",
     "text": [
      "Model: \"SeGu AI\"\n",
      "_________________________________________________________________\n",
      " Layer (type)                Output Shape              Param #   \n",
      "=================================================================\n",
      " simple_rnn_1 (SimpleRNN)    (None, 16)                288       \n",
      "                                                                 \n",
      " dense_5 (Dense)             (None, 5)                 85        \n",
      "                                                                 \n",
      "=================================================================\n",
      "Total params: 373\n",
      "Trainable params: 373\n",
      "Non-trainable params: 0\n",
      "_________________________________________________________________\n"
     ]
    }
   ],
   "source": [
    "model.summary()"
   ]
  },
  {
   "cell_type": "code",
   "execution_count": null,
   "metadata": {},
   "outputs": [],
   "source": [
    "# Choose an optimizer and add a loss function\n",
    "model.compile(optimizer='adam', loss='mse')"
   ]
  },
  {
   "attachments": {},
   "cell_type": "markdown",
   "metadata": {},
   "source": [
    "Getting ready to train the model"
   ]
  },
  {
   "cell_type": "code",
   "execution_count": null,
   "metadata": {},
   "outputs": [],
   "source": [
    "# Split data between training and validation\n",
    "X_train, X_val, y_train, y_val = train_test_split(normalized_data[:, :-5], normalized_data[:, -5:], test_size=0.2, random_state=42)"
   ]
  },
  {
   "cell_type": "code",
   "execution_count": null,
   "metadata": {},
   "outputs": [],
   "source": [
    "%%time\n",
    "\n",
    "# train the model\n",
    "history = model.fit(\n",
    "    X_train.reshape(-1, 5, 1),\n",
    "    y_train,\n",
    "    epochs=100,\n",
    "    validation_data=(\n",
    "        X_val.reshape(-1, 5, 1),\n",
    "        y_val)\n",
    "    )\n",
    "\n",
    "\n"
   ]
  }
 ],
 "metadata": {
  "kernelspec": {
   "display_name": "Python 3",
   "language": "python",
   "name": "python3"
  },
  "language_info": {
   "codemirror_mode": {
    "name": "ipython",
    "version": 3
   },
   "file_extension": ".py",
   "mimetype": "text/x-python",
   "name": "python",
   "nbconvert_exporter": "python",
   "pygments_lexer": "ipython3",
   "version": "3.10.10"
  },
  "orig_nbformat": 4,
  "vscode": {
   "interpreter": {
    "hash": "36f2f42a1608aeda029080b931ab2a20c0868fd75fa6c881939e0341570e1a7b"
   }
  }
 },
 "nbformat": 4,
 "nbformat_minor": 2
}
